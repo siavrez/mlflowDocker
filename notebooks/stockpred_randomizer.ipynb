{
 "cells": [
  {
   "cell_type": "code",
   "execution_count": 1,
   "metadata": {},
   "outputs": [],
   "source": [
    "import random\n",
    "import mlflow\n",
    "from mlflow.pyfunc.model import PythonModel\n"
   ]
  },
  {
   "cell_type": "code",
   "execution_count": 2,
   "metadata": {},
   "outputs": [],
   "source": [
    "\n",
    "class RandomPredictor(PythonModel):\n",
    "  def __init__(self):\n",
    "    pass\n",
    "\n",
    "  def predict(self, context, model_input):\n",
    "    return model_input.apply(lambda column: random.randint(0,1))\n"
   ]
  },
  {
   "cell_type": "code",
   "execution_count": 3,
   "metadata": {},
   "outputs": [],
   "source": [
    "# Construct and save the model\n",
    "model_path = \"randomizer_model\"\n",
    "r = RandomPredictor()\n",
    "mlflow.pyfunc.save_model(path=model_path, python_model=r)"
   ]
  },
  {
   "cell_type": "code",
   "execution_count": 4,
   "metadata": {},
   "outputs": [],
   "source": [
    "# Load the model in `python_function` format\n",
    "loaded_model = mlflow.pyfunc.load_model(model_path)\n"
   ]
  },
  {
   "cell_type": "markdown",
   "metadata": {},
   "source": []
  },
  {
   "cell_type": "code",
   "execution_count": 8,
   "metadata": {},
   "outputs": [],
   "source": [
    "import pandas as pd\n",
    "model_input = pd.DataFrame([range(10)])\n",
    "\n",
    "random_predictor = RandomPredictor()\n",
    "\n",
    "mlflow.set_experiment('stockpred_experiment_day5_up')\n",
    "with mlflow.start_run():\n",
    "    model_output = loaded_model.predict(model_input)\n",
    "\n",
    "    mlflow.log_metric(\"Days Up\",model_output.sum())\n",
    "    mlflow.log_artifact(\"stockpred_randomizer.ipynb\")\n",
    "    \n",
    "\n",
    "    "
   ]
  },
  {
   "cell_type": "code",
   "execution_count": null,
   "metadata": {},
   "outputs": [],
   "source": [
    "print(model_output)\n"
   ]
  },
  {
   "cell_type": "code",
   "execution_count": null,
   "metadata": {},
   "outputs": [],
   "source": []
  }
 ],
 "metadata": {
  "kernelspec": {
   "display_name": "Python 3",
   "language": "python",
   "name": "python3"
  },
  "language_info": {
   "codemirror_mode": {
    "name": "ipython",
    "version": 3
   },
   "file_extension": ".py",
   "mimetype": "text/x-python",
   "name": "python",
   "nbconvert_exporter": "python",
   "pygments_lexer": "ipython3",
   "version": "3.7.6"
  },
  "toc": {
   "base_numbering": 1,
   "nav_menu": {},
   "number_sections": true,
   "sideBar": true,
   "skip_h1_title": false,
   "title_cell": "Table of Contents",
   "title_sidebar": "Contents",
   "toc_cell": false,
   "toc_position": {},
   "toc_section_display": true,
   "toc_window_display": false
  }
 },
 "nbformat": 4,
 "nbformat_minor": 4
}
